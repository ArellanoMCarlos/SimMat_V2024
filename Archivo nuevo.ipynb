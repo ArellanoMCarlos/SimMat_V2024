{
 "cells": [
  {
   "cell_type": "markdown",
   "id": "462fb111",
   "metadata": {},
   "source": [
    "# Atajos útiles\n",
    "\n",
    "`Ctrl`+`Enter` $\\rightarrow$ Solo ejecutar la celda\n",
    "\n",
    "`Shift`+`Enter` $\\rightarrow$ Ejecutar celda y pasar a la siguiente\n",
    "\n",
    "`Alt`+`Enter` $\\rightarrow$ Ejecutar la celda y crear otra\n",
    "\n",
    "`Esc`+`D`,`D` $\\rightarrow$ Borrar celda (Jupyter)\n",
    "\n",
    "`Esc`+`M` $\\rightarrow$ Convertir celda a Markdown (Jupyter)\n",
    "\n",
    "`Esc`+`Y` $\\rightarrow$ Convertir celda a código (Jupyter)\n",
    "\n",
    "`Ctrl`+`M`,`D` $\\rightarrow$ Borrar celda (Colab)\n",
    "\n",
    "`Ctrl`+`M`,`M` $\\rightarrow$ Convertir celda a Markdown (Colab)\n",
    "\n",
    "`Ctrl`+`M`,`Y` $\\rightarrow$ Convertir celda a código (Colab)"
   ]
  },
  {
   "cell_type": "markdown",
   "id": "feef1ccb",
   "metadata": {},
   "source": [
    "## Presentación\n",
    "* **Nombre:** Carlos Augusto Arellano Muro\n",
    "* **Edad:** 34.75 años\n",
    "* **Ciudad:** Zapopan\n",
    "* **Carrera:** Ing. en Comunicaciones y Electrónica. Maestría en Ciencias en Ingeniería Eléctrica. Doctorado en Ciencias en Ingeniería Eléctrica, intensificación en Control Automático. :)\n",
    "* **Intereses:** Muy interesado"
   ]
  },
  {
   "cell_type": "markdown",
   "id": "bd070651",
   "metadata": {},
   "source": [
    "## Resumen\n",
    "\n",
    "#### Así lucía Sofía Rivera Torres antes de casarse con Eduardo Videgaray\n",
    "![](https://img-s-msn-com.akamaized.net/tenant/amp/entityid/BB1mIuW0.img?w=800&h=435&q=60&m=2&f=jpg)\n",
    "Sofía Rivera Torres se ha convertido en una de las conductoras de televisión más populares en México desde que comenzó su noviazgo con Eduardo Videgaray, aunque también es una de las personalidades más polémicas por sus constantes críticas y peleas con otros famosos.\n",
    "\n",
    "[*Referencia*](https://www.msn.com/es-mx/noticias/mexico/as%C3%AD-luc%C3%ADa-sof%C3%ADa-rivera-torres-antes-de-casarse-con-eduardo-videgaray/ss-BB1mIJ9L?ocid=entnewsntp&pc=U531&cvid=673ce7dcc546461fb7814ecddf35e3c9&ei=17)"
   ]
  }
 ],
 "metadata": {
  "kernelspec": {
   "display_name": "Python 3 (ipykernel)",
   "language": "python",
   "name": "python3"
  },
  "language_info": {
   "codemirror_mode": {
    "name": "ipython",
    "version": 3
   },
   "file_extension": ".py",
   "mimetype": "text/x-python",
   "name": "python",
   "nbconvert_exporter": "python",
   "pygments_lexer": "ipython3",
   "version": "3.11.5"
  }
 },
 "nbformat": 4,
 "nbformat_minor": 5
}
